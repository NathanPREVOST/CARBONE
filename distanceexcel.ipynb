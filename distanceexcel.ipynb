{
 "cells": [
  {
   "cell_type": "code",
   "execution_count": 2,
   "metadata": {},
   "outputs": [
    {
     "name": "stdout",
     "output_type": "stream",
     "text": [
      "                                CountryName        CapitalName  \\\n",
      "0                                Somaliland           Hargeisa   \n",
      "1  South Georgia and South Sandwich Islands  King Edward Point   \n",
      "2       French Southern and Antarctic Lands  Port-aux-Français   \n",
      "3                                 Palestine          Jerusalem   \n",
      "4                             Aland Islands          Mariehamn   \n",
      "\n",
      "   CapitalLatitude  CapitalLongitude CountryCode ContinentName  \n",
      "0         9.550000         44.050000         NaN        Africa  \n",
      "1       -54.283333        -36.500000          GS    Antarctica  \n",
      "2       -49.350000         70.216667          TF    Antarctica  \n",
      "3        31.766667         35.233333          PS          Asia  \n",
      "4        60.116667         19.900000          AX        Europe  \n",
      "✅ Fichier Excel généré : Distances_Entre_Toutes_Les_Capitales.xlsx\n"
     ]
    }
   ],
   "source": [
    "import pandas as pd\n",
    "from geopy.distance import geodesic\n",
    "\n",
    "# Charger le fichier CSV\n",
    "df = pd.read_csv(\"concap.csv\")\n",
    "\n",
    "# Afficher les premières lignes pour vérifier le format\n",
    "print(df.head())\n",
    "\n",
    "# On suppose que les colonnes s'appellent 'CapitalName', 'CapitalLatitude', 'CapitalLongitude'\n",
    "# Sinon adapte les noms de colonnes ici :\n",
    "capitales = df[['CapitalName', 'CapitalLatitude', 'CapitalLongitude']]\n",
    "\n",
    "# Matrice vide pour les distances\n",
    "distance_matrix = pd.DataFrame(index=capitales['CapitalName'], columns=capitales['CapitalName'])\n",
    "\n",
    "# Calcul des distances\n",
    "for i, row1 in capitales.iterrows():\n",
    "    for j, row2 in capitales.iterrows():\n",
    "        coord1 = (row1['CapitalLatitude'], row1['CapitalLongitude'])\n",
    "        coord2 = (row2['CapitalLatitude'], row2['CapitalLongitude'])\n",
    "        distance = geodesic(coord1, coord2).kilometers\n",
    "        distance_matrix.loc[row1['CapitalName'], row2['CapitalName']] = round(distance, 2)\n",
    "\n",
    "# Sauvegarde du fichier Excel\n",
    "output_file = \"Distances_Entre_Toutes_Les_Capitales.xlsx\"\n",
    "distance_matrix.to_excel(output_file)\n",
    "print(f\"✅ Fichier Excel généré : {output_file}\")\n"
   ]
  },
  {
   "cell_type": "code",
   "execution_count": 3,
   "metadata": {},
   "outputs": [
    {
     "name": "stdout",
     "output_type": "stream",
     "text": [
      "✅ Le fichier Excel a été créé : Distances_SQL_Excel.xlsx\n"
     ]
    }
   ],
   "source": [
    "import pandas as pd\n",
    "\n",
    "# === Chemins d'entrée et sortie ===\n",
    "fichier_csv = \"Distances_SQL_Excel.csv\"        # Nom du fichier CSV d'origine\n",
    "fichier_excel = \"Distances_SQL_Excel.xlsx\"     # Nom du fichier Excel généré\n",
    "\n",
    "# === Chargement du fichier CSV ===\n",
    "df = pd.read_csv(fichier_csv)\n",
    "\n",
    "# === Export en fichier Excel (.xlsx) ===\n",
    "df.to_excel(fichier_excel, index=False)\n",
    "\n",
    "print(f\"✅ Le fichier Excel a été créé : {fichier_excel}\")\n"
   ]
  }
 ],
 "metadata": {
  "kernelspec": {
   "display_name": "Python 3",
   "language": "python",
   "name": "python3"
  },
  "language_info": {
   "codemirror_mode": {
    "name": "ipython",
    "version": 3
   },
   "file_extension": ".py",
   "mimetype": "text/x-python",
   "name": "python",
   "nbconvert_exporter": "python",
   "pygments_lexer": "ipython3",
   "version": "3.11.9"
  }
 },
 "nbformat": 4,
 "nbformat_minor": 2
}
