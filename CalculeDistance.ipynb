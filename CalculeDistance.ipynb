{
 "cells": [
  {
   "cell_type": "code",
   "execution_count": 2,
   "metadata": {},
   "outputs": [
    {
     "name": "stdout",
     "output_type": "stream",
     "text": [
      "🌍 La distance entre guyancourt et paris est d'environ 22.37 km.\n"
     ]
    }
   ],
   "source": [
    "from geopy.geocoders import Nominatim\n",
    "from geopy.distance import geodesic\n",
    "\n",
    "def get_coordinates(city):\n",
    "    geolocator = Nominatim(user_agent=\"geo_distance_calculator\")\n",
    "    location = geolocator.geocode(city)\n",
    "    if location:\n",
    "        return (location.latitude, location.longitude)\n",
    "    else:\n",
    "        return None\n",
    "\n",
    "def calculate_distance(capital1, capital2):\n",
    "    coords1 = get_coordinates(capital1)\n",
    "    coords2 = get_coordinates(capital2)\n",
    "    \n",
    "    if not coords1 or not coords2:\n",
    "        print(\"❌ Impossible de trouver une ou les deux capitales. Vérifiez les noms.\")\n",
    "        return None\n",
    "    \n",
    "    distance = geodesic(coords1, coords2).kilometers\n",
    "    return round(distance, 2)\n",
    "\n",
    "if __name__ == \"__main__\":\n",
    "    capital1 = input(\"Entrez la première capitale : \")\n",
    "    capital2 = input(\"Entrez la deuxième capitale : \")\n",
    "\n",
    "    distance = calculate_distance(capital1, capital2)\n",
    "\n",
    "    if distance:\n",
    "        print(f\"🌍 La distance entre {capital1} et {capital2} est d'environ {distance} km.\")\n"
   ]
  }
 ],
 "metadata": {
  "kernelspec": {
   "display_name": "Python 3",
   "language": "python",
   "name": "python3"
  },
  "language_info": {
   "codemirror_mode": {
    "name": "ipython",
    "version": 3
   },
   "file_extension": ".py",
   "mimetype": "text/x-python",
   "name": "python",
   "nbconvert_exporter": "python",
   "pygments_lexer": "ipython3",
   "version": "3.11.9"
  }
 },
 "nbformat": 4,
 "nbformat_minor": 2
}
